{
 "cells": [
  {
   "cell_type": "code",
   "execution_count": null,
   "metadata": {},
   "outputs": [],
   "source": [
    "import torch\n",
    "import os\n",
    "import time\n",
    "import cv2\n",
    "import uuid   # Unique identifier"
   ]
  },
  {
   "cell_type": "code",
   "execution_count": null,
   "metadata": {},
   "outputs": [],
   "source": [
    "# This line of code loads the YOLOv5 model architecture ('yolov5s') from the 'ultralytics/yolov5' repository using PyTorch's hub interface.\n",
    "# The model is loaded and assigned to the variable 'model', which can then be used for tasks such as object detection.\n",
    "model = torch.hub.load('ultralytics/yolov5', 'yolov5s')"
   ]
  },
  {
   "cell_type": "code",
   "execution_count": null,
   "metadata": {},
   "outputs": [],
   "source": [
    "# Define the path to the directory containing the images, which is 'data/images'.\n",
    "# The os.path.join() function is used to construct the path in a platform-independent manner.\n",
    "IMAGES_PATH = os.path.join('data', 'images')  # /data/images\n",
    "\n",
    "# Define a list of class labels for the images.\n",
    "labels = ['awake', 'drowsy']\n",
    "\n",
    "# Specify the number of images to process.\n",
    "number_imgs = 5 # Change this number to increase the number of images you want to capture"
   ]
  },
  {
   "cell_type": "code",
   "execution_count": null,
   "metadata": {},
   "outputs": [],
   "source": [
    "# Open a connection to the default camera (index 0)\n",
    "cap = cv2.VideoCapture(0)\n",
    "\n",
    "# Loop through each label in the list of labels\n",
    "for label in labels:\n",
    "    print('Collecting images for {}'.format(label))\n",
    "    \n",
    "    # Pause for 5 seconds to allow user to prepare\n",
    "    time.sleep(5)\n",
    "    \n",
    "    # Loop through the specified number of images to capture\n",
    "    for img_num in range(number_imgs):\n",
    "        print('Collecting images for {}, image number {}'.format(label, img_num))\n",
    "        \n",
    "        # Capture a frame from the webcam feed\n",
    "        ret, frame = cap.read()\n",
    "        \n",
    "        # Construct the image filename using the label, a unique identifier, and the jpg extension\n",
    "        imgname = os.path.join(IMAGES_PATH, label + '.' + str(uuid.uuid1()) + '.jpg')\n",
    "        \n",
    "        # Write the captured frame to an image file\n",
    "        cv2.imwrite(imgname, frame)\n",
    "        \n",
    "        # Display the captured frame on the screen\n",
    "        cv2.imshow('Image Collection', frame)\n",
    "        \n",
    "        # Pause for 2 seconds before capturing the next image\n",
    "        time.sleep(2)\n",
    "        \n",
    "        # Check if the 'q' key is pressed to quit the image collection process\n",
    "        if cv2.waitKey(10) & 0xFF == ord('q'):\n",
    "            break\n",
    "\n",
    "# Release the camera connection\n",
    "cap.release()\n",
    "\n",
    "# Close all OpenCV windows\n",
    "cv2.destroyAllWindows()\n"
   ]
  }
 ],
 "metadata": {
  "kernelspec": {
   "display_name": "venv",
   "language": "python",
   "name": "python3"
  },
  "language_info": {
   "name": "python",
   "version": "3.11.7"
  }
 },
 "nbformat": 4,
 "nbformat_minor": 2
}
