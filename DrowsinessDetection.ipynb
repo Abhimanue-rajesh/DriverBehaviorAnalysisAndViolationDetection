{
 "cells": [
  {
   "cell_type": "markdown",
   "metadata": {},
   "source": [
    "Importing the key libraries"
   ]
  },
  {
   "cell_type": "code",
   "execution_count": null,
   "metadata": {},
   "outputs": [],
   "source": [
    "import torch  \n",
    "from matplotlib import pyplot as plt #For Rendering \n",
    "import numpy as np #For Data transformation \n",
    "import cv2 #Open-Cv"
   ]
  },
  {
   "cell_type": "markdown",
   "metadata": {},
   "source": [
    "Loading the Model "
   ]
  },
  {
   "cell_type": "code",
   "execution_count": null,
   "metadata": {},
   "outputs": [],
   "source": [
    "model = torch.hub.load('ultralytics/yolov5', 'yolov5s') #To get a pre trained model from the torch hub\n",
    "#Using the lightest model available to keep everything light for the raspberry pi"
   ]
  },
  {
   "cell_type": "code",
   "execution_count": null,
   "metadata": {},
   "outputs": [],
   "source": [
    "#Run this to know the model structure\n",
    "model"
   ]
  },
  {
   "cell_type": "markdown",
   "metadata": {},
   "source": [
    "Making Base Line Detections - Testing the Model with an image"
   ]
  },
  {
   "cell_type": "code",
   "execution_count": null,
   "metadata": {},
   "outputs": [],
   "source": [
    "#Used to pass in urls of images to check the model\n",
    "img = 'https://th.bing.com/th/id/OIP.gzkVQWVgkZwhYJXS_0J9fwHaFW?rs=1&pid=ImgDetMain'"
   ]
  },
  {
   "cell_type": "code",
   "execution_count": null,
   "metadata": {},
   "outputs": [],
   "source": [
    "#Passing an image to the model to test.\n",
    "results = model(img)\n",
    "results.print()"
   ]
  },
  {
   "cell_type": "code",
   "execution_count": null,
   "metadata": {},
   "outputs": [],
   "source": [
    "#To render the results with matplotlib \n",
    "#To use matplotlib lib as in line \n",
    "%matplotlib inline\n",
    "plt.imshow(np.squeeze(results.render()))\n",
    "plt.show()"
   ]
  },
  {
   "cell_type": "markdown",
   "metadata": {},
   "source": [
    "Making base line detection with video - Using system camera or video file"
   ]
  },
  {
   "cell_type": "code",
   "execution_count": null,
   "metadata": {},
   "outputs": [],
   "source": [
    "# Define desired window size\n",
    "desired_width = 640\n",
    "desired_height = 480\n",
    "\n",
    "# Define window name\n",
    "window_name = 'Driver Drowsiness Detection - Pytorch'\n",
    "\n",
    "# Open the video capture (replace with your video source)\n",
    "cap = cv2.VideoCapture('TestVideo_2.mp4')  # Or use cap = cv2.VideoCapture(0) for webcam\n",
    "\n",
    "while cap.isOpened():\n",
    "    ret, frame = cap.read()\n",
    "\n",
    "    if not ret:  # Handle frame read errors\n",
    "        print(\"Error reading frame.\")\n",
    "        break\n",
    "\n",
    "    # Make detections (replace with your YOLOv5 detection code)\n",
    "    results = model(frame)\n",
    "\n",
    "    # Resize the frame (optional, if you want to resize before detection)\n",
    "    frame = cv2.resize(frame, (desired_width, desired_height))\n",
    "\n",
    "    # Render the results (replace with your YOLOv5 rendering code)\n",
    "    rendered_frame = np.squeeze(results.render())\n",
    "\n",
    "    # Create or resize the window\n",
    "    cv2.namedWindow(window_name, cv2.WINDOW_NORMAL)\n",
    "    cv2.resizeWindow(window_name, desired_width, desired_height)\n",
    "\n",
    "    # Show the resized frame with detections\n",
    "    cv2.imshow(window_name, rendered_frame)\n",
    "\n",
    "    # Handle key press for quitting\n",
    "    if cv2.waitKey(1) & 0xFF == ord('q'):\n",
    "        break\n",
    "\n",
    "# Release resources\n",
    "cap.release()\n",
    "cv2.destroyAllWindows()\n"
   ]
  },
  {
   "cell_type": "markdown",
   "metadata": {},
   "source": [
    "Train a Custom Model "
   ]
  },
  {
   "cell_type": "code",
   "execution_count": null,
   "metadata": {},
   "outputs": [],
   "source": [
    "import os\n",
    "import time"
   ]
  }
 ],
 "metadata": {
  "kernelspec": {
   "display_name": "venv",
   "language": "python",
   "name": "python3"
  },
  "language_info": {
   "codemirror_mode": {
    "name": "ipython",
    "version": 3
   },
   "file_extension": ".py",
   "mimetype": "text/x-python",
   "name": "python",
   "nbconvert_exporter": "python",
   "pygments_lexer": "ipython3",
   "version": "3.11.7"
  }
 },
 "nbformat": 4,
 "nbformat_minor": 2
}
